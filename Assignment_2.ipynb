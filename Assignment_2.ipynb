{
 "cells": [
  {
   "cell_type": "markdown",
   "id": "854c05f3",
   "metadata": {},
   "source": [
    "1.What are the two values of the Boolean data type? How do you write them?"
   ]
  },
  {
   "cell_type": "markdown",
   "id": "4755d6a1",
   "metadata": {},
   "source": [
    "Ans--\n",
    "\n",
    "Two values of Boolean data type are True and False. which will always be in Capitlised form."
   ]
  },
  {
   "cell_type": "markdown",
   "id": "c37c1478",
   "metadata": {},
   "source": [
    "2. What are the three different types of Boolean operators?"
   ]
  },
  {
   "cell_type": "markdown",
   "id": "3ff2a2c9",
   "metadata": {},
   "source": [
    "Ans--\n",
    "\n",
    "and , or and not are the logical operator which returns the Boolean value"
   ]
  },
  {
   "cell_type": "markdown",
   "id": "62a1d5a6",
   "metadata": {},
   "source": [
    "3. Make a list of each Boolean operator's truth tables (i.e. every possible combination of Boolean values for the operator and what it evaluate )."
   ]
  },
  {
   "cell_type": "markdown",
   "id": "16b0a6a2",
   "metadata": {},
   "source": [
    "Ans--\n",
    "\n",
    "OR Truth table:\n",
    "    \n",
    "    T  F -- T\n",
    "    T  T -- T\n",
    "    F  T -- T\n",
    "    F  F -- F\n",
    "    \n",
    "AND Truth table:\n",
    "    \n",
    "    T T -- T\n",
    "    T F -- F\n",
    "    F T -- F\n",
    "    F F -- F\n",
    "    \n",
    "NOT Truth table:\n",
    "    \n",
    "    Not True -- False\n",
    "    Not False -- True\n"
   ]
  },
  {
   "cell_type": "markdown",
   "id": "4366f137",
   "metadata": {},
   "source": [
    "4. What are the values of the following expressions?\n",
    "\n",
    "(5 > 4) and (3 == 5)\n",
    "not (5 > 4)\n",
    "(5 > 4) or (3 == 5)\n",
    "not ((5 > 4) or (3 == 5))\n",
    "(True and True) and (True == False)\n",
    "(not False) or (not True)\n"
   ]
  },
  {
   "cell_type": "markdown",
   "id": "109c6ba7",
   "metadata": {},
   "source": [
    "Ans--\n",
    "\n",
    "(5 > 4) and (3 == 5)\n",
    "\n",
    "False\n",
    "\n",
    "not (5 > 4)\n",
    "\n",
    "False\n",
    "\n",
    "(5 > 4) or (3 == 5)\n",
    "\n",
    "True\n",
    "\n",
    "not ((5 > 4) or (3 == 5))\n",
    "\n",
    "False\n",
    "\n",
    "(True and True) and (True == False)\n",
    "\n",
    "False\n",
    "\n",
    "(not False) or (not True)\n",
    "\n",
    "True"
   ]
  },
  {
   "cell_type": "markdown",
   "id": "47309812",
   "metadata": {},
   "source": [
    "5. What are the six comparison operators?"
   ]
  },
  {
   "cell_type": "markdown",
   "id": "8ff7074a",
   "metadata": {},
   "source": [
    "Ans--\n",
    "\n",
    "==,!=,<,>,<=,>="
   ]
  },
  {
   "cell_type": "markdown",
   "id": "459d4651",
   "metadata": {},
   "source": [
    "6. How do you tell the difference between the equal to and assignment operators?Describe a condition and when you would use one."
   ]
  },
  {
   "cell_type": "markdown",
   "id": "216cad7e",
   "metadata": {},
   "source": [
    "Ans--\n",
    "\n",
    "Assignement operator is used with single equal to sign for an example we need to assign value 10 to a vaiable called a so we will write like below\n",
    "\n",
    "a=10\n",
    "\n",
    "and equal to operater is used to check wheather the variable is equal to some values and its used using two equal to sign together like below.\n",
    "\n",
    "name == 'Gaurav'"
   ]
  },
  {
   "cell_type": "markdown",
   "id": "4362682a",
   "metadata": {},
   "source": [
    "7. Identify the three blocks in this code:\n",
    "spam = 0\n",
    "if spam == 10:\n",
    "print('eggs')\n",
    "if spam > 5:\n",
    "print('bacon')\n",
    "else:\n",
    "print('ham')\n",
    "print('spam')\n",
    "print('spam')\n"
   ]
  },
  {
   "cell_type": "markdown",
   "id": "fdbb9ceb",
   "metadata": {},
   "source": [
    "Ans--\n",
    "\n",
    "first block\n",
    "\n",
    "if spam == 10:\n",
    "    print('eggs')\n",
    "    \n",
    "second block\n",
    "\n",
    "if spam > 5:\n",
    "    print('bacon')\n",
    "    \n",
    "Third block which else part of above one\n",
    "\n",
    "else:\n",
    "    print('ham')"
   ]
  },
  {
   "cell_type": "markdown",
   "id": "a45027bf",
   "metadata": {},
   "source": [
    "8. Write code that prints Hello if 1 is stored in spam, prints Howdy if 2 is stored in spam, and prints Greetings! if anything else is stored in spam."
   ]
  },
  {
   "cell_type": "markdown",
   "id": "fc61a09c",
   "metadata": {},
   "source": [
    "spam=int(input())\n",
    "if spam == 1:\n",
    "    print(\"Hello\")\n",
    "elif spam == 2:\n",
    "    print(\"Howdy\")\n",
    "else:\n",
    "    print(\"Greetings\")"
   ]
  },
  {
   "cell_type": "markdown",
   "id": "7747b995",
   "metadata": {},
   "source": [
    "9.If your programme is stuck in an endless loop, what keys you’ll press?"
   ]
  },
  {
   "cell_type": "markdown",
   "id": "4996fe9b",
   "metadata": {},
   "source": [
    "Ans--\n",
    "\n",
    "cntrl+c"
   ]
  },
  {
   "cell_type": "markdown",
   "id": "4da62a66",
   "metadata": {},
   "source": [
    "10. How can you tell the difference between break and continue?"
   ]
  },
  {
   "cell_type": "markdown",
   "id": "3d4cf4c7",
   "metadata": {},
   "source": [
    "Ans--\n",
    "\n",
    "Break-- break will just take the iteration out of the loop and control will be out of the loop.\n",
    "\n",
    "Continue -- Continue will pass the control to loop and also after the continue all the statement within the loop will not be executed."
   ]
  },
  {
   "cell_type": "markdown",
   "id": "56569b1a",
   "metadata": {},
   "source": [
    "11. In a for loop, what is the difference between range(10), range(0, 10), and range(0, 10, 1)?"
   ]
  },
  {
   "cell_type": "markdown",
   "id": "1888a1c4",
   "metadata": {},
   "source": [
    "Ans--\n",
    "\n",
    "All are same!"
   ]
  },
  {
   "cell_type": "markdown",
   "id": "237a094b",
   "metadata": {},
   "source": [
    "12. Write a short program that prints the numbers 1 to 10 using a for loop. Then write an equivalent program that prints the numbers 1 to 10 using a while loop."
   ]
  },
  {
   "cell_type": "markdown",
   "id": "f392a15d",
   "metadata": {},
   "source": [
    "Ans--\n",
    "\n",
    "using for loop\n",
    "\n",
    "for i in range(0,11,1):\n",
    "    print(i)\n",
    "\n",
    "\n",
    "\n",
    "using a while loop\n",
    "\n",
    "\n",
    "\n",
    "a=0\n",
    "while a < 11:\n",
    "    print(a)\n",
    "    a=a+1    \n",
    "    "
   ]
  },
  {
   "cell_type": "markdown",
   "id": "d944e056",
   "metadata": {},
   "source": [
    "13. If you had a function named bacon() inside a module named spam, how would you call it after importing spam?"
   ]
  },
  {
   "cell_type": "markdown",
   "id": "dc90eecf",
   "metadata": {},
   "source": [
    "Ans--\n",
    "\n",
    "\n",
    "import spam as s\n",
    "\n",
    "s.bacon()"
   ]
  }
 ],
 "metadata": {
  "kernelspec": {
   "display_name": "Python 3 (ipykernel)",
   "language": "python",
   "name": "python3"
  },
  "language_info": {
   "codemirror_mode": {
    "name": "ipython",
    "version": 3
   },
   "file_extension": ".py",
   "mimetype": "text/x-python",
   "name": "python",
   "nbconvert_exporter": "python",
   "pygments_lexer": "ipython3",
   "version": "3.9.2"
  }
 },
 "nbformat": 4,
 "nbformat_minor": 5
}
