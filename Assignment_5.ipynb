{
 "cells": [
  {
   "cell_type": "markdown",
   "id": "3d08bfbf",
   "metadata": {},
   "source": [
    "1. What does an empty dictionary's code look like?"
   ]
  },
  {
   "cell_type": "markdown",
   "id": "764f0a89",
   "metadata": {},
   "source": [
    "Ans--\n",
    "\n",
    "{}"
   ]
  },
  {
   "cell_type": "markdown",
   "id": "855c128e",
   "metadata": {},
   "source": [
    "2. What is the value of a dictionary value with the key 'foo' and the value 42?"
   ]
  },
  {
   "cell_type": "markdown",
   "id": "01cf7910",
   "metadata": {},
   "source": [
    "d={'foo': 42}"
   ]
  },
  {
   "cell_type": "markdown",
   "id": "b46d878c",
   "metadata": {},
   "source": [
    "3. What is the most significant distinction between a dictionary and a list?"
   ]
  },
  {
   "cell_type": "markdown",
   "id": "658990ac",
   "metadata": {},
   "source": [
    "Ans--\n",
    "\n",
    "\n",
    "dictionary will have key , value pair while list have elements on specific index and also dictionary can be fetched using key and list elements can be fetched by index."
   ]
  },
  {
   "cell_type": "markdown",
   "id": "d8c268b7",
   "metadata": {},
   "source": [
    "4. What happens if you try to access spam['foo'] if spam is {'bar': 100}?"
   ]
  },
  {
   "cell_type": "markdown",
   "id": "d31cd630",
   "metadata": {},
   "source": [
    "Ans--\n",
    "\n",
    "it will throw an key error"
   ]
  },
  {
   "cell_type": "markdown",
   "id": "84acbc1e",
   "metadata": {},
   "source": [
    "5. If a dictionary is stored in spam, what is the difference between the expressions 'cat' in spam and 'cat' in spam.keys()?"
   ]
  },
  {
   "cell_type": "markdown",
   "id": "fa368d8a",
   "metadata": {},
   "source": [
    "Ans--\n",
    "\n",
    "As per my understanding in here if any dict type var called spam , expression cat in spam could be either key oe value and 'cat' in spam.keys() means cat is key and having an asssociated value to it in dict.\n"
   ]
  },
  {
   "cell_type": "markdown",
   "id": "56c8b9ca",
   "metadata": {},
   "source": [
    "6. If a dictionary is stored in spam, what is the difference between the expressions 'cat' in spam and 'cat' in spam.values()?"
   ]
  },
  {
   "cell_type": "markdown",
   "id": "71aa0ecd",
   "metadata": {},
   "source": [
    "Ans--\n",
    "\n",
    "Expressions 'cat' could be any thing either key or value. but 'cat' in spam.values() means cat is a value in dict of any key."
   ]
  },
  {
   "cell_type": "markdown",
   "id": "52f082f7",
   "metadata": {},
   "source": [
    "7. What is a shortcut for the following code?\n",
    "if 'color' not in spam:\n",
    "spam['color'] = 'black'\n"
   ]
  },
  {
   "cell_type": "markdown",
   "id": "33dbe106",
   "metadata": {},
   "source": [
    "Ans--\n",
    "\n",
    "spam['color']='black'\n",
    "\n",
    "direct we can run this. "
   ]
  },
  {
   "cell_type": "markdown",
   "id": "675cb802",
   "metadata": {},
   "source": [
    "8. How do you \"pretty print\" dictionary values using which module and function?"
   ]
  },
  {
   "cell_type": "markdown",
   "id": "b60ddcaf",
   "metadata": {},
   "source": [
    "Ans--\n",
    "\n",
    "\n",
    "from pprint import pprint"
   ]
  },
  {
   "cell_type": "code",
   "execution_count": null,
   "id": "8dc92e09",
   "metadata": {},
   "outputs": [],
   "source": []
  },
  {
   "cell_type": "code",
   "execution_count": null,
   "id": "9a8aad60",
   "metadata": {},
   "outputs": [],
   "source": []
  },
  {
   "cell_type": "code",
   "execution_count": null,
   "id": "1668ddce",
   "metadata": {},
   "outputs": [],
   "source": []
  }
 ],
 "metadata": {
  "kernelspec": {
   "display_name": "Python 3 (ipykernel)",
   "language": "python",
   "name": "python3"
  },
  "language_info": {
   "codemirror_mode": {
    "name": "ipython",
    "version": 3
   },
   "file_extension": ".py",
   "mimetype": "text/x-python",
   "name": "python",
   "nbconvert_exporter": "python",
   "pygments_lexer": "ipython3",
   "version": "3.9.2"
  }
 },
 "nbformat": 4,
 "nbformat_minor": 5
}
