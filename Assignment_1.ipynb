{
 "cells": [
  {
   "cell_type": "markdown",
   "id": "26de2fc7",
   "metadata": {},
   "source": [
    "1. In the below elements which of them are values or an expression? eg:- values can be\n",
    "integer or string and expressions will be mathematical operators."
   ]
  },
  {
   "cell_type": "markdown",
   "id": "f235deea",
   "metadata": {},
   "source": [
    "Ans- * is a multiplication expression.\n",
    "      'hello' is a string value\n",
    "      -87.8 is a float value.\n",
    "      - is a substraction operator or expression.\n",
    "      / is divide operator or expression.\n",
    "      + is a addition operator or expression\n",
    "      6 is interger or number value"
   ]
  },
  {
   "cell_type": "markdown",
   "id": "fc8dca97",
   "metadata": {},
   "source": [
    "2. What is the difference between string and variable?"
   ]
  },
  {
   "cell_type": "markdown",
   "id": "c95c0420",
   "metadata": {},
   "source": [
    "Ans-\n",
    "\n",
    "String: String is type of data, we can get the data type of any variable by function type(). we can iterate through the string and get the sequences of char.\n",
    "\n",
    "Variable : Variable , we declare to hold any type of data which could be of type int, str, float, boolean or any collections as well e.g. list, tuple, set and dict."
   ]
  },
  {
   "cell_type": "markdown",
   "id": "f8922d30",
   "metadata": {},
   "source": [
    "3. Describe three different data types."
   ]
  },
  {
   "cell_type": "markdown",
   "id": "8da91466",
   "metadata": {},
   "source": [
    "Ans-\n",
    "\n",
    "(i) int-- int data type can have number values and perform mathmetical opertions and so more.\n",
    "(ii) str-- str data type can have set of char to represent any name or something. \n",
    "(iii) Boolean-- Boolean data type in python are True and False which have values 1 and o respectvily. and perform opertions and condtion based."
   ]
  },
  {
   "cell_type": "markdown",
   "id": "a79b52bd",
   "metadata": {},
   "source": [
    "4. What is an expression made up of? What do all expressions do?"
   ]
  },
  {
   "cell_type": "markdown",
   "id": "6cf0ebb3",
   "metadata": {},
   "source": [
    "Ans-\n",
    "\n",
    "an expression is made of operatoe and operand to perform some opertions which will produce some values. operatore could be mathmetical operator or relational opertor  "
   ]
  },
  {
   "cell_type": "markdown",
   "id": "49056c75",
   "metadata": {},
   "source": [
    "5. This assignment statements, like spam = 10. What is the difference between an\n",
    "expression and a statement?"
   ]
  },
  {
   "cell_type": "markdown",
   "id": "492759ce",
   "metadata": {},
   "source": [
    "Ans -\n",
    "\n",
    "expressions are the combinations of operator, operands and they returns some value using these. and expression would be printed too.\n",
    "But statements are like print statement and assign statement. and all those which can not be printed for example if this=='yes': , we can not print, statements are more like commands which need to execute.\n",
    "    here, spam= 10 is a assign statement."
   ]
  },
  {
   "cell_type": "markdown",
   "id": "eed8c04c",
   "metadata": {},
   "source": [
    "6. After running the following code, what does the variable bacon contain?\n",
    "bacon = 22\n",
    "bacon + 1\n"
   ]
  },
  {
   "cell_type": "markdown",
   "id": "99064a81",
   "metadata": {},
   "source": [
    "Ans-\n",
    "\n",
    "bacon will have still 22"
   ]
  },
  {
   "cell_type": "markdown",
   "id": "db60f19e",
   "metadata": {},
   "source": [
    "7. What should the values of the following two terms be?\n",
    "\n",
    "  'spam' + 'spamspam'\n",
    "  \n",
    "  \n",
    "  'spam' * 3\n"
   ]
  },
  {
   "cell_type": "markdown",
   "id": "dd52eae7",
   "metadata": {},
   "source": [
    "Ans--\n",
    "\n",
    "spamspamspam\n",
    "\n",
    "spamspamspam"
   ]
  },
  {
   "cell_type": "markdown",
   "id": "d0bd3e49",
   "metadata": {},
   "source": [
    "8. Why is eggs a valid variable name while 100 is invalid?"
   ]
  },
  {
   "cell_type": "markdown",
   "id": "0773d630",
   "metadata": {},
   "source": [
    "Ans--\n",
    "\n",
    "variables can start either from characters or _ and can contain only alphanumeric and underscores init"
   ]
  },
  {
   "cell_type": "markdown",
   "id": "bf897e40",
   "metadata": {},
   "source": [
    "9. What three functions can be used to get the integer, floating-point number, or string version of a value?"
   ]
  },
  {
   "cell_type": "markdown",
   "id": "25ba592a",
   "metadata": {},
   "source": [
    "Ans--\n",
    "\n",
    "\n",
    "int(),float() and str()"
   ]
  },
  {
   "cell_type": "markdown",
   "id": "5a617e55",
   "metadata": {},
   "source": [
    "10. Why does this expression cause an error? How can you fix it?\n",
    "\n",
    "'I have eaten ' + 99 + ' burritos.'"
   ]
  },
  {
   "cell_type": "markdown",
   "id": "e76d2303",
   "metadata": {},
   "source": [
    "Ans--\n",
    "\n",
    "we are concatinating string variables with int type variables so we should also type cast int variable to string type variable.\n",
    "\n",
    "'I have eaten ' + '99' + ' burritos.'"
   ]
  }
 ],
 "metadata": {
  "kernelspec": {
   "display_name": "Python 3 (ipykernel)",
   "language": "python",
   "name": "python3"
  },
  "language_info": {
   "codemirror_mode": {
    "name": "ipython",
    "version": 3
   },
   "file_extension": ".py",
   "mimetype": "text/x-python",
   "name": "python",
   "nbconvert_exporter": "python",
   "pygments_lexer": "ipython3",
   "version": "3.9.2"
  }
 },
 "nbformat": 4,
 "nbformat_minor": 5
}
