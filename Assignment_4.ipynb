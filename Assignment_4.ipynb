{
 "cells": [
  {
   "cell_type": "markdown",
   "id": "4f76da9c",
   "metadata": {},
   "source": [
    "1. What exactly is []?"
   ]
  },
  {
   "cell_type": "markdown",
   "id": "0231f5c7",
   "metadata": {},
   "source": [
    "Ans--\n",
    "\n",
    "[] square bracket is used to assign or intilise the list which is a collection of homogenous and hetrogenous collections of data type."
   ]
  },
  {
   "cell_type": "markdown",
   "id": "0c6fa996",
   "metadata": {},
   "source": [
    "2. In a list of values stored in a variable called spam, how would you assign the value 'hello' as the third value? (Assume [2, 4, 6, 8, 10] are in spam.)"
   ]
  },
  {
   "cell_type": "markdown",
   "id": "8b1ec1a4",
   "metadata": {},
   "source": [
    "Ans--\n",
    "\n",
    "spam[2]='hello'"
   ]
  },
  {
   "cell_type": "markdown",
   "id": "ecb47aa9",
   "metadata": {},
   "source": [
    "# Let's pretend the spam includes the list ['a', 'b', 'c', 'd'] for the next three queries."
   ]
  },
  {
   "cell_type": "markdown",
   "id": "58db133d",
   "metadata": {},
   "source": [
    "3. What is the value of spam[int(int('3' * 2) / 11)]?"
   ]
  },
  {
   "cell_type": "markdown",
   "id": "c2233222",
   "metadata": {},
   "source": [
    "Ans--\n",
    "\n",
    "'d'"
   ]
  },
  {
   "cell_type": "markdown",
   "id": "82bbf92c",
   "metadata": {},
   "source": [
    "4. What is the value of spam[-1]?"
   ]
  },
  {
   "cell_type": "markdown",
   "id": "9393db78",
   "metadata": {},
   "source": [
    "Ans--\n",
    "\n",
    "'d'"
   ]
  },
  {
   "cell_type": "markdown",
   "id": "862f85c6",
   "metadata": {},
   "source": [
    "5. What is the value of spam[:2]?"
   ]
  },
  {
   "cell_type": "markdown",
   "id": "ec65eae5",
   "metadata": {},
   "source": [
    "['a', 'b']"
   ]
  },
  {
   "cell_type": "markdown",
   "id": "a236a2a0",
   "metadata": {},
   "source": [
    "# Let's pretend bacon has the list [3.14, 'cat,' 11, 'cat,' True] for the next three questions."
   ]
  },
  {
   "cell_type": "markdown",
   "id": "822a7c00",
   "metadata": {},
   "source": [
    "6. What is the value of bacon.index('cat')?"
   ]
  },
  {
   "cell_type": "markdown",
   "id": "07580bcd",
   "metadata": {},
   "source": [
    "Ans--\n",
    "\n",
    "1"
   ]
  },
  {
   "cell_type": "markdown",
   "id": "f6348886",
   "metadata": {},
   "source": [
    "7. How does bacon.append(99) change the look of the list value in bacon?"
   ]
  },
  {
   "cell_type": "markdown",
   "id": "d4148ed0",
   "metadata": {},
   "source": [
    "Ans--\n",
    "\n",
    "\n",
    "[3.14, 'cat', 11, 'cat', True, 99]"
   ]
  },
  {
   "cell_type": "markdown",
   "id": "92166ded",
   "metadata": {},
   "source": [
    "8. How does bacon.remove('cat') change the look of the list in bacon?"
   ]
  },
  {
   "cell_type": "markdown",
   "id": "06747695",
   "metadata": {},
   "source": [
    "Ans--\n",
    "\n",
    "[3.14, 11, 'cat', True]"
   ]
  },
  {
   "cell_type": "markdown",
   "id": "12df1733",
   "metadata": {},
   "source": [
    "9. What are the list concatenation and list replication operators?"
   ]
  },
  {
   "cell_type": "markdown",
   "id": "76eda347",
   "metadata": {},
   "source": [
    "Ans--\n",
    "\n",
    "for the list concatenation we use + operator and for the list replication we use * operator.\n",
    "\n",
    "for replication as below\n",
    "\n",
    "a=[1,2,3]\n",
    "a *=2\n",
    "\n",
    "for concatenation \n",
    "a+a"
   ]
  },
  {
   "cell_type": "markdown",
   "id": "cd1d387c",
   "metadata": {},
   "source": [
    "10. What is difference between the list methods append() and insert()?"
   ]
  },
  {
   "cell_type": "markdown",
   "id": "7241f10c",
   "metadata": {},
   "source": [
    "Ans--\n",
    "\n",
    "List append() will append the at the last index and it will also append the collection as it is at the last index of list.\n",
    "\n",
    "while insert() method will insert the data at the given index which is passed as an argument in the method."
   ]
  },
  {
   "cell_type": "markdown",
   "id": "05ba3a64",
   "metadata": {},
   "source": [
    "11. What are the two methods for removing items from a list?"
   ]
  },
  {
   "cell_type": "markdown",
   "id": "97f98d15",
   "metadata": {},
   "source": [
    "Ans--\n",
    "\n",
    "\n",
    "delete()-- that will take the element to be deleted as in argument and will delete its first occurence in the list.\n",
    "\n",
    "\n",
    "del list[]-- this will delete the item from the list which will be given with refrence to its index number and this also supports slicing to delete multiple elements from list."
   ]
  },
  {
   "cell_type": "markdown",
   "id": "9e99863e",
   "metadata": {},
   "source": [
    "12. Describe how list values and string values are identical."
   ]
  },
  {
   "cell_type": "markdown",
   "id": "24534c38",
   "metadata": {},
   "source": [
    "Ans--\n",
    "\n",
    "list and String both data type we can iterate through the elements they contain so these property make them identical"
   ]
  },
  {
   "cell_type": "markdown",
   "id": "b09798ae",
   "metadata": {},
   "source": [
    "13. What's the difference between tuples and lists?"
   ]
  },
  {
   "cell_type": "markdown",
   "id": "c129727b",
   "metadata": {},
   "source": [
    "Ans--\n",
    "\n",
    "list are mutable but tuples are immutable."
   ]
  },
  {
   "cell_type": "markdown",
   "id": "a7537b4a",
   "metadata": {},
   "source": [
    "14. How do you type a tuple value that only contains the integer 42?"
   ]
  },
  {
   "cell_type": "markdown",
   "id": "80e3fb90",
   "metadata": {},
   "source": [
    "Ans--\n",
    "\n",
    "t=(42,)"
   ]
  },
  {
   "cell_type": "markdown",
   "id": "918b05e9",
   "metadata": {},
   "source": [
    "15. How do you get a list value's tuple form? How do you get a tuple value's list form?"
   ]
  },
  {
   "cell_type": "markdown",
   "id": "0437ac10",
   "metadata": {},
   "source": [
    "Ans--\n",
    "\n",
    "\n",
    "we can convert tuple into list using list() function and can do the indexing to get the element.\n",
    "and we can also convert the list into tuple using tuple() function and perform the same indexing as both supports the indexing.\n",
    "\n",
    "for example:\n",
    "    \n",
    "    t=(42,34,'sudh',89)\n",
    "    list(t)[0]\n",
    "    \n",
    "and also\n",
    "\n",
    "    l=[1,2,3]\n",
    "    tuple(l)[0]"
   ]
  },
  {
   "cell_type": "markdown",
   "id": "5f0439f9",
   "metadata": {},
   "source": [
    "16. Variables that \"contain\" list values are not necessarily lists themselves. Instead, what do they contain?"
   ]
  },
  {
   "cell_type": "markdown",
   "id": "a5d02621",
   "metadata": {},
   "source": [
    "Ans--\n",
    "\n",
    "variables hold the memory address of the list that address can be fetched through id(varaible_name)."
   ]
  },
  {
   "cell_type": "markdown",
   "id": "e1221214",
   "metadata": {},
   "source": [
    "17. How do you distinguish between copy.copy() and copy.deepcopy()?"
   ]
  },
  {
   "cell_type": "markdown",
   "id": "59b3d1c4",
   "metadata": {},
   "source": [
    "Ans--\n",
    "\n",
    "\n",
    "copy.copy() will give same changed values in case of nested collections after modifying the original list\n",
    "\n",
    "while copy.deepcopy() will have the original reference of data values in the nested collections even after modifying the original collections."
   ]
  },
  {
   "cell_type": "code",
   "execution_count": null,
   "id": "cd3c6998",
   "metadata": {},
   "outputs": [],
   "source": []
  }
 ],
 "metadata": {
  "kernelspec": {
   "display_name": "Python 3 (ipykernel)",
   "language": "python",
   "name": "python3"
  },
  "language_info": {
   "codemirror_mode": {
    "name": "ipython",
    "version": 3
   },
   "file_extension": ".py",
   "mimetype": "text/x-python",
   "name": "python",
   "nbconvert_exporter": "python",
   "pygments_lexer": "ipython3",
   "version": "3.9.2"
  }
 },
 "nbformat": 4,
 "nbformat_minor": 5
}
